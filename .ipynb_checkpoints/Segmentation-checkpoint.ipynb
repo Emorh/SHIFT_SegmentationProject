{
 "cells": [
  {
   "cell_type": "code",
   "execution_count": 1,
   "id": "ef2d8832",
   "metadata": {},
   "outputs": [],
   "source": [
    "%load_ext autoreload\n",
    "%autoreload 2"
   ]
  },
  {
   "cell_type": "code",
   "execution_count": 94,
   "id": "3aeeb032",
   "metadata": {},
   "outputs": [],
   "source": [
    "from matplotlib import pyplot as plt\n",
    "from PIL import Image\n",
    "import os\n",
    "\n",
    "import torch\n",
    "import torch.nn as nn\n",
    "import torch.optim as optim\n",
    "import torchvision\n",
    "from torchvision import transforms\n",
    "\n",
    "import albumentations as A\n",
    "from albumentations.pytorch.transforms import ToTensorV2"
   ]
  },
  {
   "cell_type": "code",
   "execution_count": 89,
   "id": "6689cf55",
   "metadata": {},
   "outputs": [],
   "source": [
    "from dataset import Dataset\n",
    "from models import UNet\n",
    "from Trainer import Trainer\n",
    "from utils import accuracy\n",
    "from utils import save_predictions_as_imgs\n",
    "from utils import hard_dice\n",
    "from utils import DiceLoss"
   ]
  },
  {
   "cell_type": "code",
   "execution_count": 90,
   "id": "f6ddb794",
   "metadata": {},
   "outputs": [],
   "source": [
    "train_folder = 'train'\n",
    "batch_size = 1\n",
    "device = 'cuda'\n",
    "\n",
    "train_transforms = A.Compose(\n",
    "    [\n",
    "        A.Resize(height=512, width=512),\n",
    "        A.Rotate(limit=10, p=1),\n",
    "        A.HorizontalFlip(p=0.5),\n",
    "        A.VerticalFlip(p=0.5),\n",
    "        A.MedianBlur(blur_limit=3, p=1.0),\n",
    "        #A.RandomBrightnessContrast(brightness_limit=0.5, contrast_limit=0, p=1),\n",
    "        #A.ColorJitter(),\n",
    "        # Это реальные среднее и дисперсия выборки, но такая нормализация не сильно помогает\n",
    "        #tensor([0.8418, 0.8288, 0.8200]), tensor([0.2174, 0.2178, 0.2234]))\n",
    "        #A.Normalize(mean=([0.8418, 0.8288, 0.8200]), std=([0.2174, 0.2178, 0.2234])),\n",
    "        #A.Normalize(),\n",
    "        ToTensorV2()\n",
    "    ])\n",
    "\n",
    "train_dataset = Dataset(train_folder, train_transforms)\n",
    "train_loader =  torch.utils.data.DataLoader(train_dataset, batch_size, pin_memory=True, shuffle=True)"
   ]
  },
  {
   "cell_type": "code",
   "execution_count": 91,
   "id": "d4cdfb2e",
   "metadata": {},
   "outputs": [],
   "source": [
    "model = UNet(n_filters=16)\n",
    "#criterion = nn.BCEWithLogitsLoss()\n",
    "criterion = DiceLoss()\n",
    "metric = {'name' : 'dice', 'func' : hard_dice}\n",
    "config = {\n",
    "    'lr': 1e-3,\n",
    "    'epochs': 10,\n",
    "    'early_stopping': 5\n",
    "}\n",
    "trainer = Trainer(model, criterion, metric, config)"
   ]
  },
  {
   "cell_type": "code",
   "execution_count": 92,
   "id": "e32d3805",
   "metadata": {},
   "outputs": [
    {
     "name": "stderr",
     "output_type": "stream",
     "text": [
      "Epoch 0: 100%|█████████████████████████████████████████████████████████████████████████| 22/22 [00:05<00:00,  3.78it/s]\n",
      "Epoch 1:   0%|                                                                                  | 0/22 [00:00<?, ?it/s]"
     ]
    },
    {
     "name": "stdout",
     "output_type": "stream",
     "text": [
      "Epoch 0, loss: 0.06397780505093661,                   dice: 0.9581309773705222\n"
     ]
    },
    {
     "name": "stderr",
     "output_type": "stream",
     "text": [
      "Epoch 1: 100%|█████████████████████████████████████████████████████████████████████████| 22/22 [00:05<00:00,  3.88it/s]\n",
      "Epoch 2:   5%|███▎                                                                      | 1/22 [00:00<00:03,  5.99it/s]"
     ]
    },
    {
     "name": "stdout",
     "output_type": "stream",
     "text": [
      "Epoch 1, loss: 0.03845543482086875,                   dice: 0.9746518622745167\n"
     ]
    },
    {
     "name": "stderr",
     "output_type": "stream",
     "text": [
      "Epoch 2: 100%|█████████████████████████████████████████████████████████████████████████| 22/22 [00:05<00:00,  4.12it/s]\n",
      "Epoch 3:   5%|███▎                                                                      | 1/22 [00:00<00:03,  6.19it/s]"
     ]
    },
    {
     "name": "stdout",
     "output_type": "stream",
     "text": [
      "Epoch 2, loss: 0.03169445828957991,                   dice: 0.9802754575555975\n"
     ]
    },
    {
     "name": "stderr",
     "output_type": "stream",
     "text": [
      "Epoch 3: 100%|█████████████████████████████████████████████████████████████████████████| 22/22 [00:05<00:00,  3.70it/s]\n",
      "Epoch 4:   0%|                                                                                  | 0/22 [00:00<?, ?it/s]"
     ]
    },
    {
     "name": "stdout",
     "output_type": "stream",
     "text": [
      "Epoch 3, loss: 0.030378011139956387,                   dice: 0.9795378554951061\n"
     ]
    },
    {
     "name": "stderr",
     "output_type": "stream",
     "text": [
      "Epoch 4: 100%|█████████████████████████████████████████████████████████████████████████| 22/22 [00:06<00:00,  3.63it/s]\n",
      "Epoch 5:   0%|                                                                                  | 0/22 [00:00<?, ?it/s]"
     ]
    },
    {
     "name": "stdout",
     "output_type": "stream",
     "text": [
      "Epoch 4, loss: 0.036971314386887985,                   dice: 0.9682402123104442\n"
     ]
    },
    {
     "name": "stderr",
     "output_type": "stream",
     "text": [
      "Epoch 5: 100%|█████████████████████████████████████████████████████████████████████████| 22/22 [00:05<00:00,  3.95it/s]\n",
      "Epoch 6:   0%|                                                                                  | 0/22 [00:00<?, ?it/s]"
     ]
    },
    {
     "name": "stdout",
     "output_type": "stream",
     "text": [
      "Epoch 5, loss: 0.031049281358718872,                   dice: 0.9779694080352783\n"
     ]
    },
    {
     "name": "stderr",
     "output_type": "stream",
     "text": [
      "Epoch 6: 100%|█████████████████████████████████████████████████████████████████████████| 22/22 [00:05<00:00,  3.93it/s]\n",
      "Epoch 7:   5%|███▎                                                                      | 1/22 [00:00<00:03,  6.39it/s]"
     ]
    },
    {
     "name": "stdout",
     "output_type": "stream",
     "text": [
      "Epoch 6, loss: 0.026645153760910034,                   dice: 0.9814960902387445\n"
     ]
    },
    {
     "name": "stderr",
     "output_type": "stream",
     "text": [
      "Epoch 7: 100%|█████████████████████████████████████████████████████████████████████████| 22/22 [00:05<00:00,  3.75it/s]\n",
      "Epoch 8:   5%|███▎                                                                      | 1/22 [00:00<00:03,  5.66it/s]"
     ]
    },
    {
     "name": "stdout",
     "output_type": "stream",
     "text": [
      "Epoch 7, loss: 0.024167150259017944,                   dice: 0.9853502484885129\n"
     ]
    },
    {
     "name": "stderr",
     "output_type": "stream",
     "text": [
      "Epoch 8: 100%|█████████████████████████████████████████████████████████████████████████| 22/22 [00:05<00:00,  3.97it/s]\n",
      "Epoch 9:   0%|                                                                                  | 0/22 [00:00<?, ?it/s]"
     ]
    },
    {
     "name": "stdout",
     "output_type": "stream",
     "text": [
      "Epoch 8, loss: 0.0238953557881442,                   dice: 0.9843327457254584\n"
     ]
    },
    {
     "name": "stderr",
     "output_type": "stream",
     "text": [
      "Epoch 9: 100%|█████████████████████████████████████████████████████████████████████████| 22/22 [00:06<00:00,  3.38it/s]"
     ]
    },
    {
     "name": "stdout",
     "output_type": "stream",
     "text": [
      "Epoch 9, loss: 0.023933565074747257,                   dice: 0.9849080145359039\n"
     ]
    },
    {
     "name": "stderr",
     "output_type": "stream",
     "text": [
      "\n"
     ]
    }
   ],
   "source": [
    "trainer.fit(train_loader)"
   ]
  },
  {
   "cell_type": "code",
   "execution_count": 93,
   "id": "75bec5f1",
   "metadata": {},
   "outputs": [],
   "source": [
    "model.load_state_dict(torch.load(os.path.join(Trainer.CHECKPOINTS_PATH, 'weights.pth')))\n",
    "save_predictions_as_imgs(train_loader, model)"
   ]
  },
  {
   "cell_type": "code",
   "execution_count": 95,
   "id": "73e98b5e",
   "metadata": {},
   "outputs": [
    {
     "ename": "FileNotFoundError",
     "evalue": "[Errno 2] No such file or directory: 'train\\\\saved_images\\\\0.png'",
     "output_type": "error",
     "traceback": [
      "\u001b[1;31m---------------------------------------------------------------------------\u001b[0m",
      "\u001b[1;31mFileNotFoundError\u001b[0m                         Traceback (most recent call last)",
      "\u001b[1;32m<ipython-input-95-5453bd934ba1>\u001b[0m in \u001b[0;36m<module>\u001b[1;34m\u001b[0m\n\u001b[1;32m----> 1\u001b[1;33m \u001b[0mimg\u001b[0m \u001b[1;33m=\u001b[0m \u001b[0mImage\u001b[0m\u001b[1;33m.\u001b[0m\u001b[0mopen\u001b[0m\u001b[1;33m(\u001b[0m\u001b[1;34mr'train\\saved_images\\0.png'\u001b[0m\u001b[1;33m)\u001b[0m\u001b[1;33m\u001b[0m\u001b[1;33m\u001b[0m\u001b[0m\n\u001b[0m\u001b[0;32m      2\u001b[0m \u001b[0mimg\u001b[0m\u001b[1;33m.\u001b[0m\u001b[0mshow\u001b[0m\u001b[1;33m(\u001b[0m\u001b[1;33m)\u001b[0m\u001b[1;33m\u001b[0m\u001b[1;33m\u001b[0m\u001b[0m\n",
      "\u001b[1;32m~\\anaconda3\\envs\\env\\lib\\site-packages\\PIL\\Image.py\u001b[0m in \u001b[0;36mopen\u001b[1;34m(fp, mode, formats)\u001b[0m\n\u001b[0;32m   2910\u001b[0m \u001b[1;33m\u001b[0m\u001b[0m\n\u001b[0;32m   2911\u001b[0m     \u001b[1;32mif\u001b[0m \u001b[0mfilename\u001b[0m\u001b[1;33m:\u001b[0m\u001b[1;33m\u001b[0m\u001b[1;33m\u001b[0m\u001b[0m\n\u001b[1;32m-> 2912\u001b[1;33m         \u001b[0mfp\u001b[0m \u001b[1;33m=\u001b[0m \u001b[0mbuiltins\u001b[0m\u001b[1;33m.\u001b[0m\u001b[0mopen\u001b[0m\u001b[1;33m(\u001b[0m\u001b[0mfilename\u001b[0m\u001b[1;33m,\u001b[0m \u001b[1;34m\"rb\"\u001b[0m\u001b[1;33m)\u001b[0m\u001b[1;33m\u001b[0m\u001b[1;33m\u001b[0m\u001b[0m\n\u001b[0m\u001b[0;32m   2913\u001b[0m         \u001b[0mexclusive_fp\u001b[0m \u001b[1;33m=\u001b[0m \u001b[1;32mTrue\u001b[0m\u001b[1;33m\u001b[0m\u001b[1;33m\u001b[0m\u001b[0m\n\u001b[0;32m   2914\u001b[0m \u001b[1;33m\u001b[0m\u001b[0m\n",
      "\u001b[1;31mFileNotFoundError\u001b[0m: [Errno 2] No such file or directory: 'train\\\\saved_images\\\\0.png'"
     ]
    }
   ],
   "source": [
    "img = Image.open(r'train\\saved_images\\0.png')\n",
    "img.show()"
   ]
  },
  {
   "cell_type": "code",
   "execution_count": null,
   "id": "92314cf6",
   "metadata": {
    "collapsed": true
   },
   "outputs": [],
   "source": []
  }
 ],
 "metadata": {
  "kernelspec": {
   "display_name": "Python 3",
   "language": "python",
   "name": "python3"
  },
  "language_info": {
   "codemirror_mode": {
    "name": "ipython",
    "version": 3
   },
   "file_extension": ".py",
   "mimetype": "text/x-python",
   "name": "python",
   "nbconvert_exporter": "python",
   "pygments_lexer": "ipython3",
   "version": "3.7.9"
  }
 },
 "nbformat": 4,
 "nbformat_minor": 5
}
