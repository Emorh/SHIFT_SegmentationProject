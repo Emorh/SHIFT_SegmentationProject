{
 "cells": [
  {
   "cell_type": "code",
   "execution_count": 1,
   "id": "ef2d8832",
   "metadata": {},
   "outputs": [],
   "source": [
    "%load_ext autoreload\n",
    "%autoreload 2"
   ]
  },
  {
   "cell_type": "code",
   "execution_count": 2,
   "id": "3aeeb032",
   "metadata": {},
   "outputs": [],
   "source": [
    "from matplotlib import pyplot as plt\n",
    "import os\n",
    "\n",
    "import torch\n",
    "import torch.nn as nn\n",
    "import torch.optim as optim\n",
    "import torchvision\n",
    "from torchvision import transforms\n",
    "\n",
    "import albumentations as A\n",
    "from albumentations.pytorch.transforms import ToTensorV2"
   ]
  },
  {
   "cell_type": "code",
   "execution_count": 3,
   "id": "6689cf55",
   "metadata": {},
   "outputs": [],
   "source": [
    "from dataset import Dataset\n",
    "from models import UNet\n",
    "from Trainer import Trainer\n",
    "from utils import accuracy"
   ]
  },
  {
   "cell_type": "code",
   "execution_count": 19,
   "id": "f6ddb794",
   "metadata": {},
   "outputs": [],
   "source": [
    "train_folder = 'train'\n",
    "batch_size = 1\n",
    "device = 'cuda'\n",
    "\n",
    "train_transforms = A.Compose(\n",
    "    [\n",
    "        A.Resize(height=512, width=512),\n",
    "        #A.Rotate(limit=35, p=1),\n",
    "        #A.HorizontalFlip(p=0.5),\n",
    "        #A.VerticalFlip(p=0.5),\n",
    "        # Это реальные среднее и дисперсия выборки, но такая нормализация не сильно помогает\n",
    "        #tensor([0.8418, 0.8288, 0.8200]), tensor([0.2174, 0.2178, 0.2234]))\n",
    "        #A.Normalize(mean=([0.8418, 0.8288, 0.8200]), std=([0.2174, 0.2178, 0.2234])),\n",
    "        #A.Normalize(),\n",
    "        A.ColorJitter(),\n",
    "        \n",
    "        ToTensorV2()\n",
    "    ])\n",
    "\n",
    "train_dataset = Dataset(train_folder, train_transforms)\n",
    "train_loader =  torch.utils.data.DataLoader(train_dataset, batch_size, pin_memory=True, shuffle=True)"
   ]
  },
  {
   "cell_type": "code",
   "execution_count": 20,
   "id": "d4cdfb2e",
   "metadata": {},
   "outputs": [],
   "source": [
    "model = UNet(n_filters=16)\n",
    "criterion = nn.BCEWithLogitsLoss()\n",
    "metric = {'name' : 'accuracy', 'func' : accuracy}\n",
    "config = {\n",
    "    'lr': 1e-3,\n",
    "    'epochs': 50,\n",
    "    'early_stopping': 5\n",
    "}\n",
    "trainer = Trainer(model, criterion, metric, config)"
   ]
  },
  {
   "cell_type": "code",
   "execution_count": 21,
   "id": "e32d3805",
   "metadata": {},
   "outputs": [
    {
     "name": "stderr",
     "output_type": "stream",
     "text": [
      "Epoch 0: 100%|█████████████████████████████████████████████████████████████████████████| 22/22 [00:05<00:00,  3.93it/s]\n",
      "Epoch 1:   5%|███▎                                                                      | 1/22 [00:00<00:02,  7.52it/s]"
     ]
    },
    {
     "name": "stdout",
     "output_type": "stream",
     "text": [
      "Epoch 0, loss: 0.16817723206159743,                   accuracy: 60.483360290527344\n"
     ]
    },
    {
     "name": "stderr",
     "output_type": "stream",
     "text": [
      "Epoch 1: 100%|█████████████████████████████████████████████████████████████████████████| 22/22 [00:05<00:00,  4.27it/s]\n",
      "Epoch 2:   5%|███▎                                                                      | 1/22 [00:00<00:02,  7.40it/s]"
     ]
    },
    {
     "name": "stdout",
     "output_type": "stream",
     "text": [
      "Epoch 1, loss: -1.6079603650353171,                   accuracy: 64.88874608820134\n"
     ]
    },
    {
     "name": "stderr",
     "output_type": "stream",
     "text": [
      "Epoch 2: 100%|█████████████████████████████████████████████████████████████████████████| 22/22 [00:05<00:00,  4.05it/s]\n",
      "Epoch 3:   0%|                                                                                  | 0/22 [00:00<?, ?it/s]"
     ]
    },
    {
     "name": "stdout",
     "output_type": "stream",
     "text": [
      "Epoch 2, loss: -2.952475615523078,                   accuracy: 64.60250507701527\n"
     ]
    },
    {
     "name": "stderr",
     "output_type": "stream",
     "text": [
      "Epoch 3: 100%|█████████████████████████████████████████████████████████████████████████| 22/22 [00:05<00:00,  3.93it/s]\n",
      "Epoch 4:   5%|███▎                                                                      | 1/22 [00:00<00:03,  5.30it/s]"
     ]
    },
    {
     "name": "stdout",
     "output_type": "stream",
     "text": [
      "Epoch 3, loss: -4.1088043617253955,                   accuracy: 66.4534482088956\n"
     ]
    },
    {
     "name": "stderr",
     "output_type": "stream",
     "text": [
      "Epoch 4: 100%|█████████████████████████████████████████████████████████████████████████| 22/22 [00:05<00:00,  3.90it/s]\n",
      "Epoch 5:   0%|                                                                                  | 0/22 [00:00<?, ?it/s]"
     ]
    },
    {
     "name": "stdout",
     "output_type": "stream",
     "text": [
      "Epoch 4, loss: -5.2788901127536185,                   accuracy: 65.78788757324219\n"
     ]
    },
    {
     "name": "stderr",
     "output_type": "stream",
     "text": [
      "Epoch 5: 100%|█████████████████████████████████████████████████████████████████████████| 22/22 [00:05<00:00,  4.08it/s]\n",
      "Epoch 6:   5%|███▎                                                                      | 1/22 [00:00<00:03,  5.84it/s]"
     ]
    },
    {
     "name": "stdout",
     "output_type": "stream",
     "text": [
      "Epoch 5, loss: -6.3197976154359905,                   accuracy: 66.74057353626598\n"
     ]
    },
    {
     "name": "stderr",
     "output_type": "stream",
     "text": [
      "Epoch 6: 100%|█████████████████████████████████████████████████████████████████████████| 22/22 [00:05<00:00,  4.01it/s]\n",
      "Epoch 7:   5%|███▎                                                                      | 1/22 [00:00<00:03,  6.90it/s]"
     ]
    },
    {
     "name": "stdout",
     "output_type": "stream",
     "text": [
      "Epoch 6, loss: -8.077602177858353,                   accuracy: 66.92123413085938\n"
     ]
    },
    {
     "name": "stderr",
     "output_type": "stream",
     "text": [
      "Epoch 7: 100%|█████████████████████████████████████████████████████████████████████████| 22/22 [00:05<00:00,  3.87it/s]\n",
      "Epoch 8:   0%|                                                                                  | 0/22 [00:00<?, ?it/s]"
     ]
    },
    {
     "name": "stdout",
     "output_type": "stream",
     "text": [
      "Epoch 7, loss: -9.703822080384601,                   accuracy: 66.36437502774325\n"
     ]
    },
    {
     "name": "stderr",
     "output_type": "stream",
     "text": [
      "Epoch 8: 100%|█████████████████████████████████████████████████████████████████████████| 22/22 [00:05<00:00,  3.97it/s]\n",
      "Epoch 9:   0%|                                                                                  | 0/22 [00:00<?, ?it/s]"
     ]
    },
    {
     "name": "stdout",
     "output_type": "stream",
     "text": [
      "Epoch 8, loss: -10.654900342226028,                   accuracy: 66.54539975253019\n"
     ]
    },
    {
     "name": "stderr",
     "output_type": "stream",
     "text": [
      "Epoch 9: 100%|█████████████████████████████████████████████████████████████████████████| 22/22 [00:06<00:00,  3.49it/s]\n",
      "Epoch 10:   5%|███▎                                                                     | 1/22 [00:00<00:03,  5.93it/s]"
     ]
    },
    {
     "name": "stdout",
     "output_type": "stream",
     "text": [
      "Epoch 9, loss: -12.914805374362253,                   accuracy: 68.26386885209517\n"
     ]
    },
    {
     "name": "stderr",
     "output_type": "stream",
     "text": [
      "Epoch 10: 100%|████████████████████████████████████████████████████████████████████████| 22/22 [00:05<00:00,  3.83it/s]\n",
      "Epoch 11:   5%|███▎                                                                     | 1/22 [00:00<00:03,  6.23it/s]"
     ]
    },
    {
     "name": "stdout",
     "output_type": "stream",
     "text": [
      "Epoch 10, loss: -14.584787401286038,                   accuracy: 65.87787974964489\n"
     ]
    },
    {
     "name": "stderr",
     "output_type": "stream",
     "text": [
      "Epoch 11: 100%|████████████████████████████████████████████████████████████████████████| 22/22 [00:06<00:00,  3.57it/s]\n",
      "Epoch 12:   5%|███▎                                                                     | 1/22 [00:00<00:04,  5.09it/s]"
     ]
    },
    {
     "name": "stdout",
     "output_type": "stream",
     "text": [
      "Epoch 11, loss: -17.04214844378558,                   accuracy: 69.04780647971414\n"
     ]
    },
    {
     "name": "stderr",
     "output_type": "stream",
     "text": [
      "Epoch 12: 100%|████████████████████████████████████████████████████████████████████████| 22/22 [00:06<00:00,  3.49it/s]\n",
      "Epoch 13:   0%|                                                                                 | 0/22 [00:00<?, ?it/s]"
     ]
    },
    {
     "name": "stdout",
     "output_type": "stream",
     "text": [
      "Epoch 12, loss: -18.419309404763307,                   accuracy: 65.2688980102539\n"
     ]
    },
    {
     "name": "stderr",
     "output_type": "stream",
     "text": [
      "Epoch 13: 100%|████████████████████████████████████████████████████████████████████████| 22/22 [00:05<00:00,  3.86it/s]\n",
      "Epoch 14:   5%|███▎                                                                     | 1/22 [00:00<00:03,  5.34it/s]"
     ]
    },
    {
     "name": "stdout",
     "output_type": "stream",
     "text": [
      "Epoch 13, loss: -21.27339068597013,                   accuracy: 67.72916967218572\n"
     ]
    },
    {
     "name": "stderr",
     "output_type": "stream",
     "text": [
      "Epoch 14: 100%|████████████████████████████████████████████████████████████████████████| 22/22 [00:05<00:00,  3.95it/s]\n",
      "Epoch 15:   0%|                                                                                 | 0/22 [00:00<?, ?it/s]"
     ]
    },
    {
     "name": "stdout",
     "output_type": "stream",
     "text": [
      "Epoch 14, loss: -23.905456911433827,                   accuracy: 66.29399386319247\n"
     ]
    },
    {
     "name": "stderr",
     "output_type": "stream",
     "text": [
      "Epoch 15: 100%|████████████████████████████████████████████████████████████████████████| 22/22 [00:06<00:00,  3.32it/s]\n",
      "Epoch 16:   0%|                                                                                 | 0/22 [00:00<?, ?it/s]"
     ]
    },
    {
     "name": "stdout",
     "output_type": "stream",
     "text": [
      "Epoch 15, loss: -25.30314500765367,                   accuracy: 64.21467174183239\n"
     ]
    },
    {
     "name": "stderr",
     "output_type": "stream",
     "text": [
      "Epoch 16: 100%|████████████████████████████████████████████████████████████████████████| 22/22 [00:06<00:00,  3.31it/s]"
     ]
    },
    {
     "name": "stdout",
     "output_type": "stream",
     "text": [
      "Epoch 16, loss: -28.616344598206606,                   accuracy: 67.2585747458718\n"
     ]
    },
    {
     "name": "stderr",
     "output_type": "stream",
     "text": [
      "\n"
     ]
    }
   ],
   "source": [
    "trainer.fit(train_loader)"
   ]
  },
  {
   "cell_type": "code",
   "execution_count": 22,
   "id": "75bec5f1",
   "metadata": {},
   "outputs": [],
   "source": [
    "def save_predictions_as_imgs(loader, model, thr=0.5, folder=\"saved_images/\"):\n",
    "    model.eval()\n",
    "    for idx, data in enumerate(loader):\n",
    "        \n",
    "        x = data['image'].to(device=device)\n",
    "        y = data['mask']\n",
    "        with torch.no_grad():\n",
    "            preds = torch.sigmoid(model(x))\n",
    "            preds = (preds > thr).float()\n",
    "        x = x.float() / 255\n",
    "        torchvision.utils.save_image(x.data.cpu(), f\"{folder}/orig_{idx}.png\")\n",
    "        torchvision.utils.save_image(preds, f\"{folder}/pred_{idx}.png\")\n",
    "        torchvision.utils.save_image(y.unsqueeze(1), f\"{folder}{idx}.png\")\n",
    "\n",
    "    model.train()\n",
    "    \n",
    "model.load_state_dict(torch.load(os.path.join(Trainer.CHECKPOINTS_PATH, 'weights.pth')))\n",
    "save_predictions_as_imgs(train_loader, model)"
   ]
  },
  {
   "cell_type": "code",
   "execution_count": null,
   "id": "76f8a495",
   "metadata": {},
   "outputs": [],
   "source": []
  }
 ],
 "metadata": {
  "kernelspec": {
   "display_name": "Python 3",
   "language": "python",
   "name": "python3"
  },
  "language_info": {
   "codemirror_mode": {
    "name": "ipython",
    "version": 3
   },
   "file_extension": ".py",
   "mimetype": "text/x-python",
   "name": "python",
   "nbconvert_exporter": "python",
   "pygments_lexer": "ipython3",
   "version": "3.7.9"
  }
 },
 "nbformat": 4,
 "nbformat_minor": 5
}
