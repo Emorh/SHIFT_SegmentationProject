{
 "cells": [
  {
   "cell_type": "code",
   "execution_count": 1,
   "id": "ef2d8832",
   "metadata": {},
   "outputs": [],
   "source": [
    "%load_ext autoreload\n",
    "%autoreload 2"
   ]
  },
  {
   "cell_type": "code",
   "execution_count": 2,
   "id": "3aeeb032",
   "metadata": {},
   "outputs": [],
   "source": [
    "from matplotlib import pyplot as plt\n",
    "import os\n",
    "\n",
    "import torch\n",
    "import torch.nn as nn\n",
    "import torch.optim as optim\n",
    "import torchvision\n",
    "from torchvision import transforms\n",
    "\n",
    "import albumentations as A\n",
    "from albumentations.pytorch.transforms import ToTensorV2"
   ]
  },
  {
   "cell_type": "code",
   "execution_count": 8,
   "id": "6689cf55",
   "metadata": {},
   "outputs": [],
   "source": [
    "from dataset import Dataset\n",
    "from models import UNet\n",
    "from Trainer import Trainer\n",
    "from utils import accuracy\n",
    "from utils import save_predictions_as_imgs"
   ]
  },
  {
   "cell_type": "code",
   "execution_count": 4,
   "id": "f6ddb794",
   "metadata": {},
   "outputs": [],
   "source": [
    "train_folder = 'train'\n",
    "batch_size = 1\n",
    "device = 'cuda'\n",
    "\n",
    "train_transforms = A.Compose(\n",
    "    [\n",
    "        A.Resize(height=512, width=512),\n",
    "        #A.Rotate(limit=35, p=1),\n",
    "        #A.HorizontalFlip(p=0.5),\n",
    "        #A.VerticalFlip(p=0.5),\n",
    "        #A.ColorJitter(),\n",
    "        # Это реальные среднее и дисперсия выборки, но такая нормализация не сильно помогает\n",
    "        #tensor([0.8418, 0.8288, 0.8200]), tensor([0.2174, 0.2178, 0.2234]))\n",
    "        #A.Normalize(mean=([0.8418, 0.8288, 0.8200]), std=([0.2174, 0.2178, 0.2234])),\n",
    "        #A.Normalize(),\n",
    "        ToTensorV2()\n",
    "    ])\n",
    "\n",
    "train_dataset = Dataset(train_folder, train_transforms)\n",
    "train_loader =  torch.utils.data.DataLoader(train_dataset, batch_size, pin_memory=True, shuffle=True)"
   ]
  },
  {
   "cell_type": "code",
   "execution_count": 5,
   "id": "d4cdfb2e",
   "metadata": {},
   "outputs": [],
   "source": [
    "model = UNet(n_filters=16)\n",
    "criterion = nn.BCEWithLogitsLoss()\n",
    "metric = {'name' : 'accuracy', 'func' : accuracy}\n",
    "config = {\n",
    "    'lr': 1e-3,\n",
    "    'epochs': 50,\n",
    "    'early_stopping': 5\n",
    "}\n",
    "trainer = Trainer(model, criterion, metric, config)"
   ]
  },
  {
   "cell_type": "code",
   "execution_count": 6,
   "id": "e32d3805",
   "metadata": {},
   "outputs": [
    {
     "name": "stderr",
     "output_type": "stream",
     "text": [
      "Epoch 0: 100%|█████████████████████████████████████████████████████████████████████████| 22/22 [00:33<00:00,  1.54s/it]\n",
      "Epoch 1:   5%|███▎                                                                      | 1/22 [00:00<00:02,  7.16it/s]"
     ]
    },
    {
     "name": "stdout",
     "output_type": "stream",
     "text": [
      "Epoch 0, loss: -3.117213314229792,                   accuracy: 59.12593494762074\n"
     ]
    },
    {
     "name": "stderr",
     "output_type": "stream",
     "text": [
      "Epoch 1: 100%|█████████████████████████████████████████████████████████████████████████| 22/22 [00:05<00:00,  4.00it/s]\n",
      "Epoch 2:   5%|███▎                                                                      | 1/22 [00:00<00:03,  5.81it/s]"
     ]
    },
    {
     "name": "stdout",
     "output_type": "stream",
     "text": [
      "Epoch 1, loss: -5.30955069038001,                   accuracy: 63.841039484197445\n"
     ]
    },
    {
     "name": "stderr",
     "output_type": "stream",
     "text": [
      "Epoch 2: 100%|█████████████████████████████████████████████████████████████████████████| 22/22 [00:05<00:00,  3.68it/s]\n",
      "Epoch 3:   5%|███▎                                                                      | 1/22 [00:00<00:03,  6.51it/s]"
     ]
    },
    {
     "name": "stdout",
     "output_type": "stream",
     "text": [
      "Epoch 2, loss: -7.146934200416911,                   accuracy: 62.44257146661932\n"
     ]
    },
    {
     "name": "stderr",
     "output_type": "stream",
     "text": [
      "Epoch 3: 100%|█████████████████████████████████████████████████████████████████████████| 22/22 [00:05<00:00,  3.97it/s]\n",
      "Epoch 4:   0%|                                                                                  | 0/22 [00:00<?, ?it/s]"
     ]
    },
    {
     "name": "stdout",
     "output_type": "stream",
     "text": [
      "Epoch 3, loss: -9.601265945217826,                   accuracy: 65.63053131103516\n"
     ]
    },
    {
     "name": "stderr",
     "output_type": "stream",
     "text": [
      "Epoch 4: 100%|█████████████████████████████████████████████████████████████████████████| 22/22 [00:05<00:00,  3.82it/s]\n",
      "Epoch 5:   0%|                                                                                  | 0/22 [00:00<?, ?it/s]"
     ]
    },
    {
     "name": "stdout",
     "output_type": "stream",
     "text": [
      "Epoch 4, loss: -11.58519631895152,                   accuracy: 67.30107394131747\n"
     ]
    },
    {
     "name": "stderr",
     "output_type": "stream",
     "text": [
      "Epoch 5: 100%|█████████████████████████████████████████████████████████████████████████| 22/22 [00:05<00:00,  3.93it/s]\n",
      "Epoch 6:   0%|                                                                                  | 0/22 [00:00<?, ?it/s]"
     ]
    },
    {
     "name": "stdout",
     "output_type": "stream",
     "text": [
      "Epoch 5, loss: -13.592935499819843,                   accuracy: 65.72936664928089\n"
     ]
    },
    {
     "name": "stderr",
     "output_type": "stream",
     "text": [
      "Epoch 6: 100%|█████████████████████████████████████████████████████████████████████████| 22/22 [00:05<00:00,  3.98it/s]\n",
      "Epoch 7:   0%|                                                                                  | 0/22 [00:00<?, ?it/s]"
     ]
    },
    {
     "name": "stdout",
     "output_type": "stream",
     "text": [
      "Epoch 6, loss: -16.1587425253608,                   accuracy: 66.55374006791548\n"
     ]
    },
    {
     "name": "stderr",
     "output_type": "stream",
     "text": [
      "Epoch 7: 100%|█████████████████████████████████████████████████████████████████████████| 22/22 [00:05<00:00,  4.01it/s]\n",
      "Epoch 8:   0%|                                                                                  | 0/22 [00:00<?, ?it/s]"
     ]
    },
    {
     "name": "stdout",
     "output_type": "stream",
     "text": [
      "Epoch 7, loss: -18.17015093023127,                   accuracy: 67.1845869584517\n"
     ]
    },
    {
     "name": "stderr",
     "output_type": "stream",
     "text": [
      "Epoch 8: 100%|█████████████████████████████████████████████████████████████████████████| 22/22 [00:05<00:00,  4.02it/s]\n",
      "Epoch 9:   0%|                                                                                  | 0/22 [00:00<?, ?it/s]"
     ]
    },
    {
     "name": "stdout",
     "output_type": "stream",
     "text": [
      "Epoch 8, loss: -19.76015875285322,                   accuracy: 65.67129655317827\n"
     ]
    },
    {
     "name": "stderr",
     "output_type": "stream",
     "text": [
      "Epoch 9: 100%|█████████████████████████████████████████████████████████████████████████| 22/22 [00:05<00:00,  3.82it/s]"
     ]
    },
    {
     "name": "stdout",
     "output_type": "stream",
     "text": [
      "Epoch 9, loss: -23.444617466493085,                   accuracy: 66.84811332009055\n"
     ]
    },
    {
     "name": "stderr",
     "output_type": "stream",
     "text": [
      "\n"
     ]
    }
   ],
   "source": [
    "trainer.fit(train_loader)"
   ]
  },
  {
   "cell_type": "code",
   "execution_count": 11,
   "id": "75bec5f1",
   "metadata": {},
   "outputs": [],
   "source": [
    "model.load_state_dict(torch.load(os.path.join(Trainer.CHECKPOINTS_PATH, 'weights.pth')))\n",
    "save_predictions_as_imgs(train_loader, model)"
   ]
  }
 ],
 "metadata": {
  "kernelspec": {
   "display_name": "Python 3",
   "language": "python",
   "name": "python3"
  },
  "language_info": {
   "codemirror_mode": {
    "name": "ipython",
    "version": 3
   },
   "file_extension": ".py",
   "mimetype": "text/x-python",
   "name": "python",
   "nbconvert_exporter": "python",
   "pygments_lexer": "ipython3",
   "version": "3.7.9"
  }
 },
 "nbformat": 4,
 "nbformat_minor": 5
}
